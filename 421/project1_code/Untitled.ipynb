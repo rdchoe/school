{
 "cells": [
  {
   "cell_type": "code",
   "execution_count": 13,
   "metadata": {},
   "outputs": [
    {
     "name": "stdout",
     "output_type": "stream",
     "text": [
      "{(0, 0), (30, 0), (10, 10), (0, 20), (10, 16), (20, 10), (30, 10), (10, 14), (10, 20), (3, 16), (10, 0), (3, 14)}\n",
      "(0, 0)\n",
      "(30, 0)\n",
      "(10, 10)\n",
      "(0, 20)\n",
      "(10, 16)\n",
      "(20, 10)\n",
      "(30, 10)\n",
      "(10, 14)\n",
      "(10, 20)\n",
      "(3, 16)\n",
      "(10, 0)\n",
      "(3, 14)\n",
      "True\n",
      "[(9, 10), (2, 16), (3, 17), (11, 0), (2, 14), (3, 13)]\n"
     ]
    }
   ],
   "source": [
    "import math\n",
    "from operator import itemgetter\n",
    "\n",
    "\n",
    "\n",
    "def collinear_point_in_edge(point, walls):\n",
    "    \"\"\"\n",
    "    Helper function for intersect, to test whether a point is in an edge,\n",
    "    assuming the point and edge are already known to be collinear.\n",
    "    \"\"\"\n",
    "    (x,y) = point\n",
    " \n",
    "    for wall in walls:\n",
    "        \n",
    "        ((xa,ya),(xb,yb)) = wall\n",
    "    # point is in edge if (i) x is between xa and xb, inclusive, and (ii) y is between\n",
    "    # ya and yb, inclusive. The test of y is redundant unless the edge is vertical.\n",
    "        if ((xa <= x <= xb) or (xb <= x <= xa)) and ((ya <= y <= yb) or (yb <= y <= ya)) or x < 0 or x > xmax or y < 0 or y > ymax:\n",
    "            return True\n",
    "    return False\n",
    "                \n",
    "corners = set()\n",
    "s_corners = []\n",
    "\n",
    "global xmax, ymax\n",
    "walls = [[(0,0),(16,0)], [(16,0),(16,16)], [(16,16),(0,16)], [(0,16),(0,0)], [(9,0),(9,11)], [(9,11),(6,11)], [(6,11),(6,7)]]\n",
    "#walls = [(0,0),(16,0)], [(16,0),(16,16)], [(16,16),(0,16)], [(0,16),(0,0)], [(4,0),(4,12)], [(4,12),(12,12)], [(12,12),(12,4)], [(12,4),(8,4)], [(8,4),(8,8)]\n",
    "walls = [[(0,0),(10,0)], [(10,0),(10,10)], [(10,10),(20,10)], [(20,10),(30,0)], [(30,0),(30,10)], [(30,10),(10,20)], [(10,20),(0,20)], [(0,20),(0,0)], [(3,14),(10,14)], [(10,14),(10,16)], [(10,16),(3,16)], [(3,16),(3,14)]]\n",
    "start = [x[0] for x in walls]\n",
    "end = [x[1] for x in walls]\n",
    "xmax = max([max(x,x1) for ((x,y),(x1,y1)) in walls])\n",
    "\n",
    "ymax = max([max(y,y1) for ((x,y),(x1,y1)) in walls])\n",
    "\n",
    "for wall in walls:\n",
    "    corners.add(wall[0])\n",
    "    corners.add(wall[1])\n",
    "print(corners)\n",
    "\n",
    "#print(corners)       \n",
    "for c in corners:\n",
    "    #first check if this point we are going to be adding is in a wall or out of bounds\n",
    "    print(c)\n",
    "    if not collinear_point_in_edge((c[0]+1, c[1]), walls):\n",
    "        s_corners.append((c[0]+1, c[1])) #right\n",
    "    if not collinear_point_in_edge((c[0]-1, c[1]), walls):\n",
    "        s_corners.append((c[0]-1, c[1])) #left\n",
    "    if not collinear_point_in_edge((c[0], c[1]-1), walls):\n",
    "        s_corners.append((c[0], c[1]-1)) #up\n",
    "    if not collinear_point_in_edge((c[0], c[1]+1), walls):\n",
    "        s_corners.append((c[0], c[1]+1)) #down   \n",
    "        \n",
    "    \n",
    "print(collinear_point_in_edge((21, 11), walls))\n",
    "print(s_corners)"
   ]
  },
  {
   "cell_type": "code",
   "execution_count": 10,
   "metadata": {},
   "outputs": [
    {
     "name": "stdout",
     "output_type": "stream",
     "text": [
      "[(9, 10), (2, 16), (3, 17), (11, 0), (2, 14), (3, 13)]\n"
     ]
    },
    {
     "ename": "NameError",
     "evalue": "name 'edistw_to_finish' is not defined",
     "output_type": "error",
     "traceback": [
      "\u001b[0;31m---------------------------------------------------------------------------\u001b[0m",
      "\u001b[0;31mNameError\u001b[0m                                 Traceback (most recent call last)",
      "\u001b[0;32m<ipython-input-10-452493a9085c>\u001b[0m in \u001b[0;36m<module>\u001b[0;34m()\u001b[0m\n\u001b[1;32m     20\u001b[0m     \u001b[0mprint\u001b[0m\u001b[0;34m(\u001b[0m\u001b[0mmininum\u001b[0m\u001b[0;34m)\u001b[0m\u001b[0;34m\u001b[0m\u001b[0m\n\u001b[1;32m     21\u001b[0m \u001b[0;34m\u001b[0m\u001b[0m\n\u001b[0;32m---> 22\u001b[0;31m \u001b[0mh_corn\u001b[0m\u001b[0;34m(\u001b[0m\u001b[0;34m[\u001b[0m\u001b[0;34m(\u001b[0m\u001b[0;36m2\u001b[0m\u001b[0;34m,\u001b[0m\u001b[0;36m1\u001b[0m\u001b[0;34m)\u001b[0m\u001b[0;34m,\u001b[0m \u001b[0;34m(\u001b[0m\u001b[0;36m0\u001b[0m\u001b[0;34m,\u001b[0m\u001b[0;36m0\u001b[0m\u001b[0;34m)\u001b[0m\u001b[0;34m]\u001b[0m\u001b[0;34m,\u001b[0m \u001b[0;34m[\u001b[0m\u001b[0;34m(\u001b[0m\u001b[0;36m13\u001b[0m\u001b[0;34m,\u001b[0m\u001b[0;36m1\u001b[0m\u001b[0;34m)\u001b[0m\u001b[0;34m,\u001b[0m\u001b[0;34m(\u001b[0m\u001b[0;36m14\u001b[0m\u001b[0;34m,\u001b[0m\u001b[0;36m1\u001b[0m\u001b[0;34m)\u001b[0m\u001b[0;34m]\u001b[0m\u001b[0;34m)\u001b[0m\u001b[0;34m\u001b[0m\u001b[0m\n\u001b[0m\u001b[1;32m     23\u001b[0m \u001b[0mh_corn\u001b[0m\u001b[0;34m(\u001b[0m\u001b[0;34m[\u001b[0m\u001b[0;34m(\u001b[0m\u001b[0;36m2\u001b[0m\u001b[0;34m,\u001b[0m\u001b[0;36m2\u001b[0m\u001b[0;34m)\u001b[0m\u001b[0;34m,\u001b[0m \u001b[0;34m(\u001b[0m\u001b[0;36m0\u001b[0m\u001b[0;34m,\u001b[0m\u001b[0;36m1\u001b[0m\u001b[0;34m)\u001b[0m\u001b[0;34m]\u001b[0m\u001b[0;34m,\u001b[0m \u001b[0;34m[\u001b[0m\u001b[0;34m(\u001b[0m\u001b[0;36m13\u001b[0m\u001b[0;34m,\u001b[0m\u001b[0;36m1\u001b[0m\u001b[0;34m)\u001b[0m\u001b[0;34m,\u001b[0m\u001b[0;34m(\u001b[0m\u001b[0;36m14\u001b[0m\u001b[0;34m,\u001b[0m\u001b[0;36m1\u001b[0m\u001b[0;34m)\u001b[0m\u001b[0;34m]\u001b[0m\u001b[0;34m)\u001b[0m\u001b[0;34m\u001b[0m\u001b[0m\n\u001b[1;32m     24\u001b[0m \u001b[0mh_corn\u001b[0m\u001b[0;34m(\u001b[0m\u001b[0;34m[\u001b[0m\u001b[0;34m(\u001b[0m\u001b[0;36m1\u001b[0m\u001b[0;34m,\u001b[0m\u001b[0;36m1\u001b[0m\u001b[0;34m)\u001b[0m\u001b[0;34m,\u001b[0m \u001b[0;34m(\u001b[0m\u001b[0;34m-\u001b[0m\u001b[0;36m1\u001b[0m\u001b[0;34m,\u001b[0m\u001b[0;36m0\u001b[0m\u001b[0;34m)\u001b[0m\u001b[0;34m]\u001b[0m\u001b[0;34m,\u001b[0m \u001b[0;34m[\u001b[0m\u001b[0;34m(\u001b[0m\u001b[0;36m13\u001b[0m\u001b[0;34m,\u001b[0m\u001b[0;36m1\u001b[0m\u001b[0;34m)\u001b[0m\u001b[0;34m,\u001b[0m\u001b[0;34m(\u001b[0m\u001b[0;36m14\u001b[0m\u001b[0;34m,\u001b[0m\u001b[0;36m1\u001b[0m\u001b[0;34m)\u001b[0m\u001b[0;34m]\u001b[0m\u001b[0;34m)\u001b[0m\u001b[0;34m\u001b[0m\u001b[0m\n",
      "\u001b[0;32m<ipython-input-10-452493a9085c>\u001b[0m in \u001b[0;36mh_corn\u001b[0;34m(state, fline)\u001b[0m\n\u001b[1;32m      6\u001b[0m     \u001b[0mprint\u001b[0m\u001b[0;34m(\u001b[0m\u001b[0ms_corners\u001b[0m\u001b[0;34m)\u001b[0m\u001b[0;34m\u001b[0m\u001b[0m\n\u001b[1;32m      7\u001b[0m     \u001b[0;32mfor\u001b[0m \u001b[0mi\u001b[0m\u001b[0;34m,\u001b[0m \u001b[0mc\u001b[0m \u001b[0;32min\u001b[0m \u001b[0menumerate\u001b[0m\u001b[0;34m(\u001b[0m\u001b[0ms_corners\u001b[0m\u001b[0;34m)\u001b[0m\u001b[0;34m:\u001b[0m\u001b[0;34m\u001b[0m\u001b[0m\n\u001b[0;32m----> 8\u001b[0;31m         \u001b[0mp\u001b[0m \u001b[0;34m=\u001b[0m \u001b[0medistw_to_finish\u001b[0m\u001b[0;34m(\u001b[0m\u001b[0;34m(\u001b[0m\u001b[0mx\u001b[0m\u001b[0;34m,\u001b[0m \u001b[0my\u001b[0m\u001b[0;34m)\u001b[0m\u001b[0;34m,\u001b[0m \u001b[0;34m[\u001b[0m\u001b[0;34m(\u001b[0m\u001b[0mc\u001b[0m\u001b[0;34m[\u001b[0m\u001b[0;36m0\u001b[0m\u001b[0;34m]\u001b[0m\u001b[0;34m,\u001b[0m\u001b[0mc\u001b[0m\u001b[0;34m[\u001b[0m\u001b[0;36m1\u001b[0m\u001b[0;34m]\u001b[0m\u001b[0;34m)\u001b[0m\u001b[0;34m,\u001b[0m\u001b[0;34m(\u001b[0m\u001b[0mc\u001b[0m\u001b[0;34m[\u001b[0m\u001b[0;36m0\u001b[0m\u001b[0;34m]\u001b[0m\u001b[0;34m,\u001b[0m\u001b[0mc\u001b[0m\u001b[0;34m[\u001b[0m\u001b[0;36m1\u001b[0m\u001b[0;34m]\u001b[0m\u001b[0;34m)\u001b[0m\u001b[0;34m]\u001b[0m\u001b[0;34m,\u001b[0m \u001b[0mwalls\u001b[0m\u001b[0;34m)\u001b[0m\u001b[0;34m\u001b[0m\u001b[0m\n\u001b[0m\u001b[1;32m      9\u001b[0m         \u001b[0;31m#p = math.sqrt((c[0] - x)** 2 + (c[1] - y)**2)\u001b[0m\u001b[0;34m\u001b[0m\u001b[0;34m\u001b[0m\u001b[0m\n\u001b[1;32m     10\u001b[0m         \u001b[0;31m#t = h_edist([(c[0],c[1]), (0,0)], fline, [])\u001b[0m\u001b[0;34m\u001b[0m\u001b[0;34m\u001b[0m\u001b[0m\n",
      "\u001b[0;31mNameError\u001b[0m: name 'edistw_to_finish' is not defined"
     ]
    }
   ],
   "source": [
    "def h_corn(state, fline):\n",
    "    ((x,y),(u,v)) = state\n",
    "    mininum = math.inf\n",
    "    corner = None\n",
    "    index = -1\n",
    "    print(s_corners)\n",
    "    for i, c in enumerate(s_corners):\n",
    "        p = edistw_to_finish((x, y), [(c[0],c[1]),(c[0],c[1])], walls)\n",
    "        #p = math.sqrt((c[0] - x)** 2 + (c[1] - y)**2)\n",
    "        #t = h_edist([(c[0],c[1]), (0,0)], fline, [])\n",
    "        #print(\"distance to nearest corner: {} + distance from that corner to finish line: {}\".format(x, y))\n",
    "        distance = p + t\n",
    "        #print(i,c, distance)\n",
    "        if distance < mininum:\n",
    "            mininum = distance\n",
    "            corner = c\n",
    "            index = i \n",
    "\n",
    "        \n",
    "    print(mininum)\n",
    "    \n",
    "h_corn([(2,1), (0,0)], [(13,1),(14,1)])\n",
    "h_corn([(2,2), (0,1)], [(13,1),(14,1)])\n",
    "h_corn([(1,1), (-1,0)], [(13,1),(14,1)])\n",
    "h_corn([(1,2), (-1,-1)], [(13,1),(14,1)])\n",
    "h_corn([(3,1), (1,0)], [(13,1),(14,1)])\n",
    "h_corn([(3,2), (1,1)], [(13,1),(14,1)])"
   ]
  },
  {
   "cell_type": "code",
   "execution_count": 8,
   "metadata": {},
   "outputs": [
    {
     "data": {
      "text/plain": [
       "[2, 1]"
      ]
     },
     "execution_count": 8,
     "metadata": {},
     "output_type": "execute_result"
    }
   ],
   "source": [
    "a = [3,2,1]\n",
    "a.remove(3)\n",
    "a"
   ]
  },
  {
   "cell_type": "code",
   "execution_count": null,
   "metadata": {},
   "outputs": [],
   "source": []
  }
 ],
 "metadata": {
  "kernelspec": {
   "display_name": "Python [default]",
   "language": "python",
   "name": "python3"
  },
  "language_info": {
   "codemirror_mode": {
    "name": "ipython",
    "version": 3
   },
   "file_extension": ".py",
   "mimetype": "text/x-python",
   "name": "python",
   "nbconvert_exporter": "python",
   "pygments_lexer": "ipython3",
   "version": "3.6.5"
  }
 },
 "nbformat": 4,
 "nbformat_minor": 2
}
