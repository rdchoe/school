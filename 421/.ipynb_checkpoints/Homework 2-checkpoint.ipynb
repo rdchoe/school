{
 "cells": [
  {
   "cell_type": "markdown",
   "metadata": {},
   "source": [
    "# Homework #2"
   ]
  },
  {
   "cell_type": "markdown",
   "metadata": {},
   "source": [
    "## Problem 3.14: Which of the Following are true and which are false? Explain your answers\n",
    "#### A) Depth-first search always expands at least as many nodes as A∗ search with an admissi- ble heuristic.\n",
    "\n",
    "**False**: Since the heurisitic is admissable, A* search will choose nodes to expand based off of f(x) = g(x) + h(x). This allows A* search to expand more nodes based of it's f(x) value. Depth-First Search can arrive at a solution quicker and expand less nodes (though it might not be the most optimal) than A*.  "
   ]
  },
  {
   "cell_type": "markdown",
   "metadata": {},
   "source": [
    "#### B) h(n) = 0 is an admissible heuristic for the 8-puzzle\n",
    "\n",
    "**True**: h is admissible if it never overestimates the cost of getting to a goal. \n",
    "\n",
    "Definition : 0 ≤ h(x) ≤ h∗(x) for every x,where h∗(x) = least cost of getting from x to goal\n",
    "\n",
    "0 ≤ H(n) = 0 is true making h(n) = 0 an admissible heurisitc for the 8 Puzzle"
   ]
  },
  {
   "cell_type": "markdown",
   "metadata": {},
   "source": [
    "#### C) A∗ is of no use in robotics because percepts, states, and actions are continuous\n",
    "\n",
    "**False**: A\\* can be of use in robotics as a planning strategy. A\\* can determine an optimal path for the robot to take."
   ]
  },
  {
   "cell_type": "markdown",
   "metadata": {},
   "source": [
    "#### D) Breadth-first search is complete even if zero step costs are allowed\n",
    "\n",
    "**True**: Breadth-First search will always find a solution given the graph space if finite. BFS does take step cost into consideration when choosing which node to expand "
   ]
  },
  {
   "cell_type": "markdown",
   "metadata": {},
   "source": [
    "#### E) Assume that a rook can move on a chessboard any number of squares in a straight line, vertically or horizontally, but cannot jump over other pieces. Manhattan distance is an admissible heuristic for the problem of moving the rook from square A to square B in the smallest number of moves\n",
    "\n",
    "**True**: The manhattan from point a will always return the minimum number of steps it takes given that there are no obstacles in the way. This makes the heuerisitc admissable since it will never overeestime the shortest path. If there is an obstacle in the rook's way, then the actual shortest path will be greater than the manahattan distance.\n"
   ]
  },
  {
   "cell_type": "markdown",
   "metadata": {},
   "source": [
    "## Problem 3.23: Trace the operation of A∗ search applied to the problem of getting to Bucharest from Lugoj using the straight-line distance heuristic. That is, show the sequence of nodes that the algorithm will consider and the f, g, and h score for each node\n",
    "\n",
    "![graph](IMG_0187.JPG)"
   ]
  },
  {
   "cell_type": "markdown",
   "metadata": {},
   "source": [
    "## Problem 3.26: Consider the unbounded version of the regular 2D grid shown in Figure 3.9. The start state is at the origin, (0,0), and the goal state is at (x, y)"
   ]
  },
  {
   "cell_type": "markdown",
   "metadata": {},
   "source": [
    "#### a) What is the branching factor b in this state space?\n",
    "\n",
    "The branching factor is 4"
   ]
  },
  {
   "cell_type": "markdown",
   "metadata": {},
   "source": [
    "#### b) How many distinct states are there at depth k (for k > 0)?\n",
    "at depth k there are 4^k distinct states"
   ]
  },
  {
   "cell_type": "markdown",
   "metadata": {},
   "source": [
    "#### c) What is the maximum number of nodes expanded by breadth-first tree search?\n",
    "The maximum number of nodes is the number of nodes in the tree"
   ]
  },
  {
   "cell_type": "markdown",
   "metadata": {},
   "source": [
    "#### d) What is the maximum number of nodes expanded by breadth-first graph search?\n"
   ]
  },
  {
   "cell_type": "markdown",
   "metadata": {},
   "source": [
    "#### e) Is h = |u − x| + |v − y| an admissible heuristic for a state at (u, v)? Explain\n",
    "Yes because h(x) <= h*(x). This heurisitic will never overestimate the shortest path from (u,v) to (x,y) "
   ]
  },
  {
   "cell_type": "markdown",
   "metadata": {},
   "source": [
    "#### f) How many nodes are expanded by A∗ graph search using h?\n",
    "Using h as the huerisitc, A* graph search will expand |u-x| + |v - y| nodes"
   ]
  },
  {
   "cell_type": "markdown",
   "metadata": {},
   "source": [
    "#### g) Does h remain admissible if some links are removed?\n",
    "Yes. Removing a link will only make h*(x) larger. So it will h*(x) becomes h*(x) + z where z is a whole number >= 0. This makes h(x) <= h*(x) + z still valid and therefor admissable"
   ]
  },
  {
   "cell_type": "markdown",
   "metadata": {},
   "source": [
    "#### h) Does h remain admissible if some links are added between nonadjacent states?\n",
    "h does not remain admissable because adding a link between nonadjacent states can make h*(x) smaller. so if h*(x) becomes h*(x) - z where z is a number >= 0. It is not gaurenteed that h(x) <= h*(x)."
   ]
  }
 ],
 "metadata": {
  "kernelspec": {
   "display_name": "Python (robenv)",
   "language": "python",
   "name": "robenv"
  },
  "language_info": {
   "codemirror_mode": {
    "name": "ipython",
    "version": 3
   },
   "file_extension": ".py",
   "mimetype": "text/x-python",
   "name": "python",
   "nbconvert_exporter": "python",
   "pygments_lexer": "ipython3",
   "version": "3.6.6"
  }
 },
 "nbformat": 4,
 "nbformat_minor": 2
}
